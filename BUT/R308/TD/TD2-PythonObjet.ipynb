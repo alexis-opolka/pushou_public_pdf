{
 "cells": [
  {
   "cell_type": "markdown",
   "metadata": {},
   "source": [
    "# préambule\n",
    "\n",
    "Avant de démarrer ce TD il est obligatoire de regarder les vidéos relatives à l'objet qui sont sur moodle et de le préparer.\n"
   ]
  },
  {
   "cell_type": "markdown",
   "metadata": {},
   "source": [
    "# Implémentation de la technologie objet par Python\n",
    "\n",
    "\n",
    "\n",
    "\n",
    "Python dispose d'un modèle objet depuis sa création. Ce modèle est élégant mais à l'instar du langage lui-même certains le trouveront permissif. \n",
    "D'autres comme moi aime l'idée de confiance attachée à ce langage.\n",
    "Tout est objet en Python y compris les types \"builtins\" (int, str...) inclus dans Python. \n",
    "Les classes et leurs instances sont aussi des objets en Python. \n",
    "\n",
    "Un classe peut être considérée comme une usine à instance. Les instances héritent de leur classe. Concrètement si un attribut est recherché sur une instance on va chercher dans le parent qui est la classe de l'instance. Chaque classe ou instance a son propre espace de nommage. Cet espace de nom est caractérisé par le nom de la  classe ou le nom de l'instance.\n",
    "Un attribut c'est une variable ou une fonction attachés à une classe ou une instance.\n",
    "\n",
    "On va créer une classe Enseignement (une classe par convention commence par une majuscule au contraire d'une instance) et ajouter une variable mon_enseignement qui appartient à la classe. "
   ]
  },
  {
   "cell_type": "code",
   "execution_count": 25,
   "metadata": {},
   "outputs": [
    {
     "name": "stdout",
     "output_type": "stream",
     "text": [
      "################################################################################\n",
      "je fais un cours sur Python et l'objet\n",
      "mon_enseignement est une variable de la classe et pourtant l'instance de la classe le trouve dans l'espace de nom de  la classe\n",
      "En fait la résolution de l'attribut échoue dans l'instance et se poursuit dans la classe grâce à la relation d'héritage entre la classe et l'instance\n"
     ]
    }
   ],
   "source": [
    "from pprint import pprint\n",
    "from typing import Type\n",
    "\n",
    "class Enseignement:\n",
    "    \"\"\" C'est ma classe qui est un objet \"\"\"\n",
    "    mon_enseignement: str = \"je fais un cours sur Python et l'objet\"\n",
    "e = Enseignement()\n",
    "\n",
    "\n",
    "print(80 * '#')\n",
    "\n",
    "print(e.mon_enseignement)\n",
    "\n",
    "print(\"mon_enseignement est une variable de la classe et pourtant l'instance de la classe le trouve dans l'espace de nom de  la classe\")\n",
    "print(\"En fait la résolution de l'attribut échoue dans l'instance et se poursuit dans la classe grâce à la relation d'héritage entre la classe et l'instance\")\n"
   ]
  },
  {
   "cell_type": "markdown",
   "metadata": {},
   "source": [
    "Pour l'instant ma classe Enseignement ne contient qu'une variable. On va rattacher une fonction à ma classe afin d'ajouter un comportement à la classe.\n",
    "Une fonction rattachée à une classe s'appelle une méthode. \n",
    "\n",
    "Les choses ne sont pas néanmoins à leur place. Souvenez-vous qu'en technologie objet dés que quelque chose est variable on le pousse à l'extérieur de la classe.\n",
    "Une méthode ne va pas forcément beaucoup évoluer mais par contre la variable mon enseignement dépend fortement de l'enseignement réalisé. \n",
    "L'externalisation des données contenues par les variables se fait dans les instances de la classe Enseignement.\n",
    "Chaque instance s'appuiera sur les comportements de la classe communs à toutes les instances.\n",
    "\n",
    "Une méthode a pour particularité de recevoir comme premier argument lors de son appel une référence (comprendre pointeur vers l'instance) qui représente la classe elle-même. Ce paramètre est nommé **self** (comme le \"this\" en Java mais là c'est \"self\" moi-même qui est plus parlant).\n",
    "Ce paramètre self permet à la fonction d'accéder aux variables de l'instance.\n",
    "\n",
    "Il nous manque un élément du Puzzle, comment passer les données à l'instance ? On va se servir d'une fonction spéciale appelé \"initialisateur d'instance\" en Python.\n",
    "On passera à cet initialisateur toutes les variables nécessaires à personnaliser l'instance. Dans notre exemple précédent c'est la variable mon_enseignement qui est passée en second paramètre, le premier restant l'instance elle même au travers de self.\n"
   ]
  },
  {
   "cell_type": "code",
   "execution_count": 42,
   "metadata": {},
   "outputs": [
    {
     "name": "stdout",
     "output_type": "stream",
     "text": [
      "{'mon_enseignement': \"je fais un cours sur Python et l'objet\"}\n",
      "{'mon_enseignement': 'je fais un cours sur le réseau'}\n",
      "L'appel de la méthode initialisateur peut être fait autrement\n",
      "Elle est équivalente à 'Enseignement.initialisateur(Enseignement(),mon_enseignement)\n",
      "On passe à la méthode l'instance de la classe Enseignement=self et le contenu de la variable mon_enseignement\n",
      "{'mon_enseignement': 'je fais un cours sur le réseau'}\n"
     ]
    }
   ],
   "source": [
    "class Enseignement:\n",
    "    \"\"\" C'est ma classe\"\"\"\n",
    "\n",
    "    def initialisateur(self, mon_enseignement: str)->None:\n",
    "        \"\"\"Cette fonction va permettre de self représente la classe elle-même \"\"\"\n",
    "        self.mon_enseignement: str = mon_enseignement\n",
    "\n",
    "# On va créer une instance de la classe \n",
    "e = Enseignement()\n",
    "\n",
    "# On appelle la méthode initialisateur \n",
    "mon_enseignement: str = \"je fais un cours sur Python et l'objet\"\n",
    "e.initialisateur(mon_enseignement)\n",
    "\n",
    "# On affiche les variables de e. Cette capacité à s'ausculter soi-même s'appelle l'introspection\n",
    "print(vars(e))\n",
    "\n",
    "mon_enseignement = \"je fais un cours sur le réseau\"\n",
    "e.initialisateur(mon_enseignement)\n",
    "print(vars(e))\n",
    "\n",
    "e = Enseignement()\n",
    "print(\"L'appel de la méthode initialisateur peut être fait autrement\")\n",
    "print(\"Elle est équivalente à 'Enseignement.initialisateur(Enseignement(),mon_enseignement)\")\n",
    "print(\"On passe à la méthode l'instance de la classe Enseignement=self et le contenu de la variable mon_enseignement\")\n",
    "Enseignement.initialisateur(e,mon_enseignement)\n",
    "print(\"on verifie qu'on a bien le même résultat\")\n",
    "print(vars(e))\n"
   ]
  },
  {
   "cell_type": "markdown",
   "metadata": {},
   "source": [
    "## Héritage, composition et agrégation en Python\n",
    "\n",
    "L'héritage correspond à une relation \"est un\".\n",
    "L'agrégation correspond à une relation \"a un\". La composition est une sorte d'agrégation.\n",
    "\n",
    "\n"
   ]
  },
  {
   "cell_type": "code",
   "execution_count": 9,
   "metadata": {},
   "outputs": [
    {
     "name": "stdout",
     "output_type": "stream",
     "text": [
      "12.4\n"
     ]
    }
   ],
   "source": [
    "# Démo composition\n",
    "\n",
    "class Enseignement():\n",
    "    \"\"\" Cette classe définie un  enseignement\"\"\"\n",
    "    def __init__(self, intitule: str, cm: float, td:float, tp: float)->None:\n",
    "        self.sujet = intitule\n",
    "        self.cm: float = cm\n",
    "        self.td: float = td\n",
    "        self.tp: float = tp\n",
    "\n",
    "    def calculHeureseqtd(self)->float:\n",
    "        \"\"\" Caclul des heures équivalent TD pour le paiement les heures de CM sont payées 1,5 heures équivalent TD\"\"\"\n",
    "        return (self.cm * 1.5 + self.td + self.tp * 0.67)\n",
    "\n",
    "  \n",
    "  \n",
    "\n",
    "class Etudiant:\n",
    "    \"\"\" Cette classe définit un étudiant, un des ses attributs est une instance de la classe Enseignement, Si on supprime une instance d'étudiant enseignement \n",
    "        disparait. C'est un couplage fort du à la composition\"\"\"\n",
    "    def __init__(self, prenom: str, nom: str, annee: str):\n",
    "        self.prenom: str = prenom\n",
    "        self.nom: str = nom\n",
    "        self.annee: str = annee\n",
    "  \n",
    "        # Composition avec l'objet enseignement\n",
    "        self.enseignement: Enseignement = Enseignement(\"Prog Avancée\",2,2,11) # composition\n",
    "\n",
    "  \n",
    "    # On va appeler cette méthode sur étudiant \n",
    "    def totalHeureseqtd(self) -> float:\n",
    "        return self.enseignement.calculHeureseqtd()\n",
    "  \n",
    "# Création de l'instance de la class Etudiant qui en interne génère l'instance de la classe enseignement\n",
    "etud = Etudiant('Jean-Marc','Pouchoulon','première')\n",
    "  \n",
    "# Appel de la méthode totalHeureseqtd sur l'instance etud qui appelle la méthode sur l'instance ens\n",
    "print(round(etud.totalHeureseqtd(),1))"
   ]
  },
  {
   "cell_type": "markdown",
   "metadata": {},
   "source": [
    "Passons à un couplage faible en passant l'instance d'Enseignement à  l'instance Etudiant lors de son initialisation"
   ]
  },
  {
   "cell_type": "code",
   "execution_count": 11,
   "metadata": {},
   "outputs": [
    {
     "name": "stdout",
     "output_type": "stream",
     "text": [
      "12.4\n"
     ]
    }
   ],
   "source": [
    "# Démo agrégation\n",
    "\n",
    "class Enseignement():\n",
    "    \"\"\" Cette classe définie un  enseignement\"\"\"\n",
    "    def __init__(self, intitule: str, cm: float, td: float, tp: float):\n",
    "        self.sujet = intitule\n",
    "        self.cm = cm \n",
    "        self.td = td\n",
    "        self.tp = tp\n",
    "\n",
    "    def calculHeureseqtd(self)->float:\n",
    "        \"\"\" Caclul des heures équivalent TD pour le paiement\"\"\"\n",
    "        return (self.cm * 1.5 + self.td + self.tp * 0.67)\n",
    "\n",
    "  \n",
    "  \n",
    "\n",
    "class Etudiant:\n",
    "    \"\"\" Cette classe définit un étudiant, un des ses attributs est une instance de la classe Enseignement, Si on supprime une instance d'étudiant enseignement \n",
    "        disparait. C'est un couplage fort du à la composition\"\"\"\n",
    "    def __init__(self, prenom: str, nom: str, annee: str, enseignement: str):\n",
    "        self.prenom = prenom\n",
    "        self.nom = nom\n",
    "        self.annee = annee\n",
    "  \n",
    "        # Agrégation avec l'objet enseignement passé en paramètre de l'initialisateur de classe \n",
    "        self.enseignement = enseignement\n",
    "\n",
    "  \n",
    "    # On va appeler cette méthode sur étudiant \n",
    "    def totalHeureseqtd(self) -> float:\n",
    "        return self.enseignement.calculHeureseqtd()\n",
    "  \n",
    "ens =  Enseignement(\"Prog Avancée\",2,2,11)\n",
    "etud = Etudiant('Jean-Marc','Pouchoulon','première',ens)\n",
    "\n",
    "  \n",
    "print(round(etud.totalHeureseqtd(),1))\n"
   ]
  },
  {
   "cell_type": "markdown",
   "metadata": {},
   "source": [
    "## Méthodes spéciales\n",
    "Une méthode initialisateur sera présente dans toute vos classes (hormis celle qui hérite de __init__). Cette méthode n'est pas la seule:\n",
    "On parle de méthodes spéciales qui permettent d'implémenter des méthodes courantes comme il en existe sur les objets builtins.\n",
    "Ces méthodes spéciales (précédées et terminées par deux underscore) permettent de définir des comportements pour la manipulation ou l'introspection sur les instances.\n",
    "par ex __add__ permet de définir comment on va additionner deux instances d'objets. Vous pouvez définir une classe imaginaire et au travers de la méthode __add__ coder le comportement de l'addition de deux instances de la classe imaginaire.\n",
    "__repr__ permet de définir comment l'objet se représente.\n",
    "L'initialisateur en Python est donc une méthode spéciale qui s'appelle __init__. Cette méthode est appelée automatiquement lors de la création de l'instance.\n",
    "__len__ va permettre de décrire comment calculer la longueur de votre instance.\n",
    "__contains__ permet de définir si un objet(ici un sting) est contenu dans notre objet (ici la variable mon_enseignement) \n",
    "Reprenons notre exemple:\n"
   ]
  },
  {
   "cell_type": "code",
   "execution_count": 5,
   "metadata": {},
   "outputs": [
    {
     "name": "stdout",
     "output_type": "stream",
     "text": [
      "{'mon_enseignement': \"je fais un cours sur Python et l'objet\", 'mots': ['je', 'fais', 'un', 'cours', 'sur', 'Python', 'et', \"l'objet\"]}\n"
     ]
    },
    {
     "data": {
      "text/plain": [
       "False"
      ]
     },
     "execution_count": 5,
     "metadata": {},
     "output_type": "execute_result"
    }
   ],
   "source": [
    "class Enseignement:\n",
    "    \"\"\" C'est ma classe\"\"\"\n",
    "\n",
    "    def __init__(self, mon_enseignement: str)->None:\n",
    "        \"\"\"Cette fonction initialise une instance d'enseignement avec une variable et ne renvoie rien\"\"\"\n",
    "        self.mon_enseignement = mon_enseignement\n",
    "        self.mots = self.mon_enseignement.split()\n",
    "\n",
    "    def __repr__(self)->str:\n",
    "        return f\"instance de Enseignement je contient l'attribut de l'instance: {self.mon_enseignement}\"\n",
    "    \n",
    "    def __len__(self)->str:\n",
    "        return len(mon_enseignement)\n",
    "\n",
    "    def __contains__(self, mot: str)->str:\n",
    "        return mot in self.mots\n",
    "\n",
    "# On appelle la méthode __init__ implicitement lors de l'instanciation \n",
    "mon_enseignement: str = \"je fais un cours sur Python et l'objet\"\n",
    "\n",
    "e = Enseignement(mon_enseignement)\n",
    "print(vars(e))\n",
    "repr(e)\n",
    "len(e)\n",
    "'Python' in e\n",
    "'C' in e"
   ]
  },
  {
   "cell_type": "markdown",
   "metadata": {},
   "source": [
    "## Exercice \n",
    "Implémenter la méthode __add__ afin de pouvoir additionner des enseignements entre eux. L'addition de deux enseignements est défini comme l'addition des heures de CM, TD et TP entre elle et la création d'une liste des intitulés."
   ]
  },
  {
   "cell_type": "markdown",
   "metadata": {},
   "source": [
    "## L'heritage de classe\n",
    "\n",
    "Une classe Python hérite forcément de la classe \"Object\" mais comme c'est automatique ce n'est pas la peine de le préciser. Une classe Python peut hériter aussi d'une autre classe:"
   ]
  },
  {
   "cell_type": "code",
   "execution_count": 14,
   "metadata": {},
   "outputs": [
    {
     "name": "stdout",
     "output_type": "stream",
     "text": [
      "instance de Enseignement je contient l'attribut de l'instance: je fais un TP sur Python et l'héritage\n"
     ]
    }
   ],
   "source": [
    "class Enseignement:\n",
    "    \"\"\" C'est ma classe\"\"\"\n",
    "\n",
    "    def __init__(self, mon_enseignement: str)->None:\n",
    "        \"\"\"Cette fonction initialise une instance d'enseignement avec une variable et ne renvoie rien\"\"\"\n",
    "        self.mon_enseignement = mon_enseignement\n",
    "\n",
    "    def __repr__(self)->str:\n",
    "        return(f\"instance de Enseignement je contient l'attribut de l'instance: {self.mon_enseignement}\")\n",
    "\n",
    "\n",
    "class TP(Enseignement):\n",
    "    ...\n",
    "\n",
    "# On appelle la méthode __init__ implicitement lors de l'instanciation \n",
    "mon_enseignement: str = \"je fais un TP sur Python et l'héritage\"\n",
    "\n",
    "\n",
    "tp = TP(mon_enseignement)\n",
    "\n",
    "print(repr(tp))"
   ]
  },
  {
   "cell_type": "markdown",
   "metadata": {},
   "source": [
    "\n",
    "il est intéressant de voir que TravauxPratiques a bien hérité d'Enseignement et que la méthode __repr__ est appelable sur l'instance t qui hérite de la classe travaux pratiques. \n",
    "Mais comme vous le voyez ce n'est pas parfait puisqu'on parle d'\"instance d'Enseignement\" , on va donc redéfinir notre méthode __repr__ dans la classe TP pour afficher qu'on une instance de TP "
   ]
  },
  {
   "cell_type": "code",
   "execution_count": 13,
   "metadata": {},
   "outputs": [
    {
     "name": "stdout",
     "output_type": "stream",
     "text": [
      "instance de TP je contient l'attribut de l'instance: je fais un TP sur Python et l'héritage\n"
     ]
    }
   ],
   "source": [
    "class Enseignement:\n",
    "    \"\"\" C'est ma classe\"\"\"\n",
    "\n",
    "    def __init__(self, mon_enseignement: str)->None:\n",
    "        \"\"\"Cette fonction initialise une instance d'enseignement avec une variable et ne renvoie rien\"\"\"\n",
    "        self.mon_enseignement = mon_enseignement\n",
    "\n",
    "    def __repr__(self)->str:\n",
    "        return(f\"instance de Enseignement je contient l'attribut de l'instance: {self.mon_enseignement}\")\n",
    "\n",
    "\n",
    "class TP(Enseignement):\n",
    "\n",
    "     def __repr__(self)->str:\n",
    "        return(f\"instance de TP je contient l'attribut de l'instance: {self.mon_enseignement}\")\n",
    "\n",
    "# On appelle la méthode __init__ implicitement lors de l'instanciation \n",
    "mon_enseignement: str = \"je fais un TP sur Python et l'héritage\"\n",
    "\n",
    "\n",
    "tp = TP(mon_enseignement)\n",
    "\n",
    "print(repr(tp))"
   ]
  },
  {
   "cell_type": "markdown",
   "metadata": {},
   "source": [
    "### Ordre d'héritage\n",
    "\n",
    "La méthode __repr__ est bien prise en compte dans l'instance de TP. Python a établi un ordre dans l'héritage des classes. L'instance tp située avant Enseignement est prioritaire et elle dispose d'une méthode __repr__ qui va donc être utilisée. La méthode __repr__ de la classe enseignement ne sera pas appelé, Python ayant trouvé son bonheur avant de remonter dans l'ordre d'héritage. Si on veut que la méthode __repr__ de Enseignement soit appelée il faut le dire explicitement à Python via le mot clef super.  \n",
    "\n",
    "L'heritage multiple est possible.\n",
    "Il est important de comprendre son mécanisme quand on appelle un attribut (=variable ou méthode) sur une instance de classe.\n",
    "Outre les TP on peut créer des classes CM et TD qui hériteront de Enseignement.\n",
    "La classe Cours va hériter des CM/TD/TP.\n",
    "Comment la résolution des attributs va t elle être impactée ?"
   ]
  },
  {
   "cell_type": "code",
   "execution_count": 12,
   "metadata": {},
   "outputs": [
    {
     "name": "stdout",
     "output_type": "stream",
     "text": [
      "True\n",
      "True\n",
      "(<class '__main__.Cours'>, <class '__main__.CM'>, <class '__main__.TD'>, <class '__main__.TP'>, <class '__main__.Enseignement'>, <class 'object'>)\n",
      "<class '__main__.Cours'>\n",
      "je fais un TP sur Python et l'héritage. J'ai 11 heures de TP dans ce cours\n"
     ]
    }
   ],
   "source": [
    "class Enseignement:\n",
    "    \"\"\" C'est ma classe\"\"\"\n",
    "\n",
    "    def __init__(self, mon_enseignement: str)->None:\n",
    "        \"\"\"Cette fonction initialise une instance d'enseignement avec une variable et ne renvoie rien\"\"\"\n",
    "        self.mon_enseignement: Enseignement = mon_enseignement\n",
    "\n",
    "    def __repr__(self)->str:\n",
    "        return(f\"instance de Enseignement je contient l'attribut de l'instance: {self.mon_enseignement}\")\n",
    "\n",
    "\n",
    "class TP(Enseignement):\n",
    "    def __init__(self, heuresTP, mon_enseignement)-> None:\n",
    "        self.heuresTP = heuresTP\n",
    "        self.mon_enseignement = mon_enseignement\n",
    "        super().__init__(self.mon_enseignement)\n",
    "\n",
    "class CM(Enseignement):\n",
    "    ...\n",
    "class TD(Enseignement):\n",
    "    ...\n",
    "\n",
    "class Cours(CM,TD,TP):\n",
    "    ...\n",
    "\n",
    "\n",
    "# On appelle la méthode __init__ implicitement lors de l'instanciation \n",
    "mon_enseignement: str = \"je fais un TP sur Python et l'héritage\"\n",
    "heuresTP: int = 11\n",
    "\n",
    "cours = Cours(heuresTP,mon_enseignement)\n",
    "print(issubclass(Cours, TP))\n",
    "print(isinstance(cours, Cours))\n",
    "print(Cours.__mro__)\n",
    "print(cours.__class__)\n",
    "\n",
    "print(cours.mon_enseignement + f\". J'ai {cours.heuresTP} heures de TP dans ce cours\")\n",
    "\n",
    "\n"
   ]
  },
  {
   "cell_type": "markdown",
   "metadata": {},
   "source": [
    "Expliquez le mécanisme de fonctionnement du code ci-dessus"
   ]
  }
 ],
 "metadata": {
  "kernelspec": {
   "display_name": "Python 3.10.4 64-bit ('3.10.4')",
   "language": "python",
   "name": "python3"
  },
  "language_info": {
   "codemirror_mode": {
    "name": "ipython",
    "version": 3
   },
   "file_extension": ".py",
   "mimetype": "text/x-python",
   "name": "python",
   "nbconvert_exporter": "python",
   "pygments_lexer": "ipython3",
   "version": "3.10.4"
  },
  "orig_nbformat": 4,
  "vscode": {
   "interpreter": {
    "hash": "6127d1fbbe37185a7da7e4da2c9f92f5859708dc5f2c34fc7e63ce95aa67320b"
   }
  }
 },
 "nbformat": 4,
 "nbformat_minor": 2
}
